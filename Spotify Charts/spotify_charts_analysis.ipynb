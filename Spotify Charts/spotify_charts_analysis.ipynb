{
 "cells": [
  {
   "cell_type": "code",
   "execution_count": 1,
   "id": "909fffde",
   "metadata": {
    "scrolled": false
   },
   "outputs": [],
   "source": [
    "import pandas as pd\n",
    "import statsmodels.api as sm\n",
    "import matplotlib.pyplot as plt\n",
    "import numpy as np\n",
    "import sqlite3\n",
    "from pathlib import Path as Path "
   ]
  },
  {
   "cell_type": "code",
   "execution_count": 2,
   "id": "60af0e9c",
   "metadata": {
    "scrolled": true
   },
   "outputs": [],
   "source": [
    "spotify_charts = pd.read_csv(\"charts.csv\")"
   ]
  },
  {
   "cell_type": "code",
   "execution_count": 65,
   "id": "a1d49f1b",
   "metadata": {},
   "outputs": [
    {
     "data": {
      "text/html": [
       "<div>\n",
       "<style scoped>\n",
       "    .dataframe tbody tr th:only-of-type {\n",
       "        vertical-align: middle;\n",
       "    }\n",
       "\n",
       "    .dataframe tbody tr th {\n",
       "        vertical-align: top;\n",
       "    }\n",
       "\n",
       "    .dataframe thead th {\n",
       "        text-align: right;\n",
       "    }\n",
       "</style>\n",
       "<table border=\"1\" class=\"dataframe\">\n",
       "  <thead>\n",
       "    <tr style=\"text-align: right;\">\n",
       "      <th></th>\n",
       "      <th>title</th>\n",
       "      <th>rank</th>\n",
       "      <th>date</th>\n",
       "      <th>artist</th>\n",
       "      <th>region</th>\n",
       "      <th>chart</th>\n",
       "      <th>trend</th>\n",
       "      <th>streams</th>\n",
       "    </tr>\n",
       "  </thead>\n",
       "  <tbody>\n",
       "    <tr>\n",
       "      <th>0</th>\n",
       "      <td>Chantaje (feat. Maluma)</td>\n",
       "      <td>1</td>\n",
       "      <td>2017-01-01</td>\n",
       "      <td>Shakira</td>\n",
       "      <td>Argentina</td>\n",
       "      <td>top200</td>\n",
       "      <td>SAME_POSITION</td>\n",
       "      <td>253019.0</td>\n",
       "    </tr>\n",
       "    <tr>\n",
       "      <th>1</th>\n",
       "      <td>Vente Pa' Ca (feat. Maluma)</td>\n",
       "      <td>2</td>\n",
       "      <td>2017-01-01</td>\n",
       "      <td>Ricky Martin</td>\n",
       "      <td>Argentina</td>\n",
       "      <td>top200</td>\n",
       "      <td>MOVE_UP</td>\n",
       "      <td>223988.0</td>\n",
       "    </tr>\n",
       "    <tr>\n",
       "      <th>2</th>\n",
       "      <td>Reggaetón Lento (Bailemos)</td>\n",
       "      <td>3</td>\n",
       "      <td>2017-01-01</td>\n",
       "      <td>CNCO</td>\n",
       "      <td>Argentina</td>\n",
       "      <td>top200</td>\n",
       "      <td>MOVE_DOWN</td>\n",
       "      <td>210943.0</td>\n",
       "    </tr>\n",
       "  </tbody>\n",
       "</table>\n",
       "</div>"
      ],
      "text/plain": [
       "                         title  rank       date        artist     region   \n",
       "0      Chantaje (feat. Maluma)     1 2017-01-01       Shakira  Argentina  \\\n",
       "1  Vente Pa' Ca (feat. Maluma)     2 2017-01-01  Ricky Martin  Argentina   \n",
       "2   Reggaetón Lento (Bailemos)     3 2017-01-01          CNCO  Argentina   \n",
       "\n",
       "    chart          trend   streams  \n",
       "0  top200  SAME_POSITION  253019.0  \n",
       "1  top200        MOVE_UP  223988.0  \n",
       "2  top200      MOVE_DOWN  210943.0  "
      ]
     },
     "execution_count": 65,
     "metadata": {},
     "output_type": "execute_result"
    }
   ],
   "source": [
    "spotify_charts.head(3)"
   ]
  },
  {
   "cell_type": "code",
   "execution_count": 3,
   "id": "acd35c3b",
   "metadata": {},
   "outputs": [
    {
     "data": {
      "text/plain": [
       "title       object\n",
       "rank         int64\n",
       "date        object\n",
       "artist      object\n",
       "url         object\n",
       "region      object\n",
       "chart       object\n",
       "trend       object\n",
       "streams    float64\n",
       "dtype: object"
      ]
     },
     "execution_count": 3,
     "metadata": {},
     "output_type": "execute_result"
    }
   ],
   "source": [
    "spotify_charts.dtypes"
   ]
  },
  {
   "cell_type": "code",
   "execution_count": 4,
   "id": "580bea70",
   "metadata": {},
   "outputs": [],
   "source": [
    "del spotify_charts['url']"
   ]
  },
  {
   "cell_type": "code",
   "execution_count": 5,
   "id": "7a72ae3a",
   "metadata": {},
   "outputs": [],
   "source": [
    "spotify_charts['date'] = pd.to_datetime(spotify_charts['date'], format=\"%Y-%m-%d\")"
   ]
  },
  {
   "cell_type": "code",
   "execution_count": 34,
   "id": "4edb7679",
   "metadata": {},
   "outputs": [
    {
     "data": {
      "text/plain": [
       "70"
      ]
     },
     "execution_count": 34,
     "metadata": {},
     "output_type": "execute_result"
    }
   ],
   "source": [
    "spotify_charts['region'].nunique() # should use category dtype "
   ]
  },
  {
   "cell_type": "code",
   "execution_count": 35,
   "id": "fc9d29fc",
   "metadata": {},
   "outputs": [
    {
     "data": {
      "text/plain": [
       "4"
      ]
     },
     "execution_count": 35,
     "metadata": {},
     "output_type": "execute_result"
    }
   ],
   "source": [
    "spotify_charts['trend'].nunique() # should use category dtype "
   ]
  },
  {
   "cell_type": "code",
   "execution_count": 6,
   "id": "eab847fb",
   "metadata": {},
   "outputs": [
    {
     "name": "stdout",
     "output_type": "stream",
     "text": [
      "Memory usage of dataframe is 1.560063 MB\n"
     ]
    }
   ],
   "source": [
    "print('Memory usage of dataframe is {:2f} MB'.format(spotify_charts.memory_usage().sum() / 1024**3))"
   ]
  },
  {
   "cell_type": "code",
   "execution_count": 7,
   "id": "90886cdb",
   "metadata": {},
   "outputs": [],
   "source": [
    "def reduce_memory_usage(df):\n",
    "    for col in df.columns: \n",
    "        if col == 'rank':\n",
    "            c_min = df[col].min()\n",
    "            c_max = df[col].max()\n",
    "            if c_min > np.iinfo(np.int8).min and c_max < np.iinfo(np.int8).max:\n",
    "                df[col] = df[col].astype(np.int8)\n",
    "            elif c_min > np.iinfo(np.int16).min and c_max < np.iinfo(np.int16).max:\n",
    "                df[col] = df[col].astype(np.int16)\n",
    "            elif c_min > np.iinfo(np.int32).min and c_max < np.iinfo(np.int32).max:\n",
    "                df[col] = df[col].astype(np.int32)\n",
    "            elif c_min > np.iinfo(np.int64).min and c_max < np.iinfo(np.int64).max:\n",
    "                df[col] = df[col].astype(np.int64)  \n",
    "        elif col == 'streams':\n",
    "            c_min = df[col].min()\n",
    "            c_max = df[col].max()\n",
    "            if c_min > np.finfo(np.float16).min and c_max < np.finfo(np.float16).max:\n",
    "                df[col] = df[col].astype(np.float16)\n",
    "            elif c_min > np.finfo(np.float32).min and c_max < np.finfo(np.float32).max:\n",
    "                df[col] = df[col].astype(np.float32)\n",
    "            else:\n",
    "                df[col] = df[col].astype(np.float64)\n",
    "        elif col != 'title' and col != 'artist' and col != 'date':\n",
    "            df[col] = df[col].astype('category')"
   ]
  },
  {
   "cell_type": "code",
   "execution_count": 8,
   "id": "9c213d6c",
   "metadata": {},
   "outputs": [
    {
     "name": "stdout",
     "output_type": "stream",
     "text": [
      "Memory usage of dataframe is 0.804410 MB\n"
     ]
    }
   ],
   "source": [
    "reduce_memory_usage(spotify_charts)\n",
    "print('Memory usage of dataframe is {:2f} MB'.format(spotify_charts.memory_usage().sum() / 1024**3))"
   ]
  },
  {
   "cell_type": "code",
   "execution_count": 9,
   "id": "1f9803c8",
   "metadata": {},
   "outputs": [
    {
     "data": {
      "text/plain": [
       "title           11\n",
       "rank             0\n",
       "date             0\n",
       "artist          18\n",
       "region           0\n",
       "chart            0\n",
       "trend            0\n",
       "streams    5851610\n",
       "dtype: int64"
      ]
     },
     "execution_count": 9,
     "metadata": {},
     "output_type": "execute_result"
    }
   ],
   "source": [
    "spotify_charts.isna().sum()"
   ]
  },
  {
   "cell_type": "code",
   "execution_count": 10,
   "id": "bb4318dd",
   "metadata": {},
   "outputs": [],
   "source": [
    "spotify_charts['streams'] = spotify_charts['streams'].fillna(0)\n",
    "spotify_charts['title'] = spotify_charts['title'].fillna('Unlisted')\n",
    "spotify_charts['artist'] = spotify_charts['artist'].fillna('Unlisted')"
   ]
  },
  {
   "cell_type": "code",
   "execution_count": 11,
   "id": "e5e64015",
   "metadata": {},
   "outputs": [
    {
     "data": {
      "text/plain": [
       "title              object\n",
       "rank                int16\n",
       "date       datetime64[ns]\n",
       "artist             object\n",
       "region           category\n",
       "chart            category\n",
       "trend            category\n",
       "streams           float32\n",
       "dtype: object"
      ]
     },
     "execution_count": 11,
     "metadata": {},
     "output_type": "execute_result"
    }
   ],
   "source": [
    "spotify_charts.dtypes"
   ]
  },
  {
   "cell_type": "code",
   "execution_count": 12,
   "id": "76dfc294",
   "metadata": {},
   "outputs": [],
   "source": [
    "spotify_charts_cleaned_csv = spotify_charts.to_csv(\"spotify_charts_cleaned.csv\")"
   ]
  },
  {
   "cell_type": "code",
   "execution_count": 13,
   "id": "c2ceef46",
   "metadata": {},
   "outputs": [],
   "source": [
    "Path('spotify_charts.db').touch()"
   ]
  },
  {
   "cell_type": "code",
   "execution_count": 24,
   "id": "485e231f",
   "metadata": {},
   "outputs": [],
   "source": [
    "spotify_conn = sqlite3.connect('spotify_charts.db')\n",
    "spotify_cursor = spotify_conn.cursor()"
   ]
  },
  {
   "cell_type": "code",
   "execution_count": null,
   "id": "50ecd989",
   "metadata": {},
   "outputs": [],
   "source": [
    "spotify_charts.to_sql('spotify_charts', spotify_conn, if_exists='append', index=False)"
   ]
  },
  {
   "cell_type": "code",
   "execution_count": 17,
   "id": "bfec1a4c",
   "metadata": {},
   "outputs": [
    {
     "data": {
      "text/html": [
       "<div>\n",
       "<style scoped>\n",
       "    .dataframe tbody tr th:only-of-type {\n",
       "        vertical-align: middle;\n",
       "    }\n",
       "\n",
       "    .dataframe tbody tr th {\n",
       "        vertical-align: top;\n",
       "    }\n",
       "\n",
       "    .dataframe thead th {\n",
       "        text-align: right;\n",
       "    }\n",
       "</style>\n",
       "<table border=\"1\" class=\"dataframe\">\n",
       "  <thead>\n",
       "    <tr style=\"text-align: right;\">\n",
       "      <th></th>\n",
       "      <th>title</th>\n",
       "      <th>rank</th>\n",
       "      <th>date</th>\n",
       "      <th>artist</th>\n",
       "      <th>region</th>\n",
       "      <th>chart</th>\n",
       "      <th>trend</th>\n",
       "      <th>streams</th>\n",
       "    </tr>\n",
       "  </thead>\n",
       "  <tbody>\n",
       "    <tr>\n",
       "      <th>0</th>\n",
       "      <td>Chantaje (feat. Maluma)</td>\n",
       "      <td>1</td>\n",
       "      <td>2017-01-01 00:00:00</td>\n",
       "      <td>Shakira</td>\n",
       "      <td>Argentina</td>\n",
       "      <td>top200</td>\n",
       "      <td>SAME_POSITION</td>\n",
       "      <td>253019.0</td>\n",
       "    </tr>\n",
       "    <tr>\n",
       "      <th>1</th>\n",
       "      <td>Vente Pa' Ca (feat. Maluma)</td>\n",
       "      <td>2</td>\n",
       "      <td>2017-01-01 00:00:00</td>\n",
       "      <td>Ricky Martin</td>\n",
       "      <td>Argentina</td>\n",
       "      <td>top200</td>\n",
       "      <td>MOVE_UP</td>\n",
       "      <td>223988.0</td>\n",
       "    </tr>\n",
       "    <tr>\n",
       "      <th>2</th>\n",
       "      <td>Reggaetón Lento (Bailemos)</td>\n",
       "      <td>3</td>\n",
       "      <td>2017-01-01 00:00:00</td>\n",
       "      <td>CNCO</td>\n",
       "      <td>Argentina</td>\n",
       "      <td>top200</td>\n",
       "      <td>MOVE_DOWN</td>\n",
       "      <td>210943.0</td>\n",
       "    </tr>\n",
       "    <tr>\n",
       "      <th>3</th>\n",
       "      <td>Safari</td>\n",
       "      <td>4</td>\n",
       "      <td>2017-01-01 00:00:00</td>\n",
       "      <td>J Balvin, Pharrell Williams, BIA, Sky</td>\n",
       "      <td>Argentina</td>\n",
       "      <td>top200</td>\n",
       "      <td>SAME_POSITION</td>\n",
       "      <td>173865.0</td>\n",
       "    </tr>\n",
       "    <tr>\n",
       "      <th>4</th>\n",
       "      <td>Shaky Shaky</td>\n",
       "      <td>5</td>\n",
       "      <td>2017-01-01 00:00:00</td>\n",
       "      <td>Daddy Yankee</td>\n",
       "      <td>Argentina</td>\n",
       "      <td>top200</td>\n",
       "      <td>MOVE_UP</td>\n",
       "      <td>153956.0</td>\n",
       "    </tr>\n",
       "  </tbody>\n",
       "</table>\n",
       "</div>"
      ],
      "text/plain": [
       "                         title  rank                 date   \n",
       "0      Chantaje (feat. Maluma)     1  2017-01-01 00:00:00  \\\n",
       "1  Vente Pa' Ca (feat. Maluma)     2  2017-01-01 00:00:00   \n",
       "2   Reggaetón Lento (Bailemos)     3  2017-01-01 00:00:00   \n",
       "3                       Safari     4  2017-01-01 00:00:00   \n",
       "4                  Shaky Shaky     5  2017-01-01 00:00:00   \n",
       "\n",
       "                                  artist     region   chart          trend   \n",
       "0                                Shakira  Argentina  top200  SAME_POSITION  \\\n",
       "1                           Ricky Martin  Argentina  top200        MOVE_UP   \n",
       "2                                   CNCO  Argentina  top200      MOVE_DOWN   \n",
       "3  J Balvin, Pharrell Williams, BIA, Sky  Argentina  top200  SAME_POSITION   \n",
       "4                           Daddy Yankee  Argentina  top200        MOVE_UP   \n",
       "\n",
       "    streams  \n",
       "0  253019.0  \n",
       "1  223988.0  \n",
       "2  210943.0  \n",
       "3  173865.0  \n",
       "4  153956.0  "
      ]
     },
     "execution_count": 17,
     "metadata": {},
     "output_type": "execute_result"
    }
   ],
   "source": [
    "spotify_charts_init_query = pd.read_sql(''' SELECT * FROM spotify_charts LIMIT 5''', spotify_conn)\n",
    "spotify_charts_init_query"
   ]
  },
  {
   "cell_type": "code",
   "execution_count": 2,
   "id": "75f8cdcf",
   "metadata": {},
   "outputs": [],
   "source": [
    "# Distribution of streams in the Global Top 50 "
   ]
  },
  {
   "cell_type": "code",
   "execution_count": 42,
   "id": "253a466d",
   "metadata": {},
   "outputs": [],
   "source": [
    "stream_distribution_querystr = '''\n",
    "SELECT rank,\n",
    "AVG(streams) as avg_streams\n",
    "FROM spotify_charts \n",
    "WHERE chart='top200' and Region='Global' and rank<51\n",
    "GROUP BY rank \n",
    "ORDER BY rank\n",
    "'''"
   ]
  },
  {
   "cell_type": "code",
   "execution_count": 43,
   "id": "9b86cd3c",
   "metadata": {},
   "outputs": [
    {
     "data": {
      "text/html": [
       "<div>\n",
       "<style scoped>\n",
       "    .dataframe tbody tr th:only-of-type {\n",
       "        vertical-align: middle;\n",
       "    }\n",
       "\n",
       "    .dataframe tbody tr th {\n",
       "        vertical-align: top;\n",
       "    }\n",
       "\n",
       "    .dataframe thead th {\n",
       "        text-align: right;\n",
       "    }\n",
       "</style>\n",
       "<table border=\"1\" class=\"dataframe\">\n",
       "  <thead>\n",
       "    <tr style=\"text-align: right;\">\n",
       "      <th></th>\n",
       "      <th>rank</th>\n",
       "      <th>avg_streams</th>\n",
       "    </tr>\n",
       "  </thead>\n",
       "  <tbody>\n",
       "    <tr>\n",
       "      <th>0</th>\n",
       "      <td>1</td>\n",
       "      <td>6.452678e+06</td>\n",
       "    </tr>\n",
       "    <tr>\n",
       "      <th>1</th>\n",
       "      <td>2</td>\n",
       "      <td>4.930331e+06</td>\n",
       "    </tr>\n",
       "    <tr>\n",
       "      <th>2</th>\n",
       "      <td>3</td>\n",
       "      <td>4.316165e+06</td>\n",
       "    </tr>\n",
       "    <tr>\n",
       "      <th>3</th>\n",
       "      <td>4</td>\n",
       "      <td>3.949684e+06</td>\n",
       "    </tr>\n",
       "    <tr>\n",
       "      <th>4</th>\n",
       "      <td>5</td>\n",
       "      <td>3.692313e+06</td>\n",
       "    </tr>\n",
       "    <tr>\n",
       "      <th>5</th>\n",
       "      <td>6</td>\n",
       "      <td>3.505777e+06</td>\n",
       "    </tr>\n",
       "    <tr>\n",
       "      <th>6</th>\n",
       "      <td>7</td>\n",
       "      <td>3.344349e+06</td>\n",
       "    </tr>\n",
       "    <tr>\n",
       "      <th>7</th>\n",
       "      <td>8</td>\n",
       "      <td>3.205857e+06</td>\n",
       "    </tr>\n",
       "    <tr>\n",
       "      <th>8</th>\n",
       "      <td>9</td>\n",
       "      <td>3.083761e+06</td>\n",
       "    </tr>\n",
       "    <tr>\n",
       "      <th>9</th>\n",
       "      <td>10</td>\n",
       "      <td>2.975797e+06</td>\n",
       "    </tr>\n",
       "    <tr>\n",
       "      <th>10</th>\n",
       "      <td>11</td>\n",
       "      <td>2.873252e+06</td>\n",
       "    </tr>\n",
       "    <tr>\n",
       "      <th>11</th>\n",
       "      <td>12</td>\n",
       "      <td>2.778022e+06</td>\n",
       "    </tr>\n",
       "    <tr>\n",
       "      <th>12</th>\n",
       "      <td>13</td>\n",
       "      <td>2.688931e+06</td>\n",
       "    </tr>\n",
       "    <tr>\n",
       "      <th>13</th>\n",
       "      <td>14</td>\n",
       "      <td>2.602756e+06</td>\n",
       "    </tr>\n",
       "    <tr>\n",
       "      <th>14</th>\n",
       "      <td>15</td>\n",
       "      <td>2.527157e+06</td>\n",
       "    </tr>\n",
       "    <tr>\n",
       "      <th>15</th>\n",
       "      <td>16</td>\n",
       "      <td>2.455996e+06</td>\n",
       "    </tr>\n",
       "    <tr>\n",
       "      <th>16</th>\n",
       "      <td>17</td>\n",
       "      <td>2.390365e+06</td>\n",
       "    </tr>\n",
       "    <tr>\n",
       "      <th>17</th>\n",
       "      <td>18</td>\n",
       "      <td>2.330022e+06</td>\n",
       "    </tr>\n",
       "    <tr>\n",
       "      <th>18</th>\n",
       "      <td>19</td>\n",
       "      <td>2.274118e+06</td>\n",
       "    </tr>\n",
       "    <tr>\n",
       "      <th>19</th>\n",
       "      <td>20</td>\n",
       "      <td>2.218298e+06</td>\n",
       "    </tr>\n",
       "    <tr>\n",
       "      <th>20</th>\n",
       "      <td>21</td>\n",
       "      <td>2.167733e+06</td>\n",
       "    </tr>\n",
       "    <tr>\n",
       "      <th>21</th>\n",
       "      <td>22</td>\n",
       "      <td>2.119696e+06</td>\n",
       "    </tr>\n",
       "    <tr>\n",
       "      <th>22</th>\n",
       "      <td>23</td>\n",
       "      <td>2.074515e+06</td>\n",
       "    </tr>\n",
       "    <tr>\n",
       "      <th>23</th>\n",
       "      <td>24</td>\n",
       "      <td>2.030252e+06</td>\n",
       "    </tr>\n",
       "    <tr>\n",
       "      <th>24</th>\n",
       "      <td>25</td>\n",
       "      <td>1.992370e+06</td>\n",
       "    </tr>\n",
       "    <tr>\n",
       "      <th>25</th>\n",
       "      <td>26</td>\n",
       "      <td>1.956687e+06</td>\n",
       "    </tr>\n",
       "    <tr>\n",
       "      <th>26</th>\n",
       "      <td>27</td>\n",
       "      <td>1.920958e+06</td>\n",
       "    </tr>\n",
       "    <tr>\n",
       "      <th>27</th>\n",
       "      <td>28</td>\n",
       "      <td>1.888143e+06</td>\n",
       "    </tr>\n",
       "    <tr>\n",
       "      <th>28</th>\n",
       "      <td>29</td>\n",
       "      <td>1.858131e+06</td>\n",
       "    </tr>\n",
       "    <tr>\n",
       "      <th>29</th>\n",
       "      <td>30</td>\n",
       "      <td>1.827528e+06</td>\n",
       "    </tr>\n",
       "    <tr>\n",
       "      <th>30</th>\n",
       "      <td>31</td>\n",
       "      <td>1.798616e+06</td>\n",
       "    </tr>\n",
       "    <tr>\n",
       "      <th>31</th>\n",
       "      <td>32</td>\n",
       "      <td>1.771439e+06</td>\n",
       "    </tr>\n",
       "    <tr>\n",
       "      <th>32</th>\n",
       "      <td>33</td>\n",
       "      <td>1.744976e+06</td>\n",
       "    </tr>\n",
       "    <tr>\n",
       "      <th>33</th>\n",
       "      <td>34</td>\n",
       "      <td>1.719703e+06</td>\n",
       "    </tr>\n",
       "    <tr>\n",
       "      <th>34</th>\n",
       "      <td>35</td>\n",
       "      <td>1.694999e+06</td>\n",
       "    </tr>\n",
       "    <tr>\n",
       "      <th>35</th>\n",
       "      <td>36</td>\n",
       "      <td>1.672198e+06</td>\n",
       "    </tr>\n",
       "    <tr>\n",
       "      <th>36</th>\n",
       "      <td>37</td>\n",
       "      <td>1.649499e+06</td>\n",
       "    </tr>\n",
       "    <tr>\n",
       "      <th>37</th>\n",
       "      <td>38</td>\n",
       "      <td>1.626660e+06</td>\n",
       "    </tr>\n",
       "    <tr>\n",
       "      <th>38</th>\n",
       "      <td>39</td>\n",
       "      <td>1.604194e+06</td>\n",
       "    </tr>\n",
       "    <tr>\n",
       "      <th>39</th>\n",
       "      <td>40</td>\n",
       "      <td>1.583494e+06</td>\n",
       "    </tr>\n",
       "    <tr>\n",
       "      <th>40</th>\n",
       "      <td>41</td>\n",
       "      <td>1.562769e+06</td>\n",
       "    </tr>\n",
       "    <tr>\n",
       "      <th>41</th>\n",
       "      <td>42</td>\n",
       "      <td>1.542209e+06</td>\n",
       "    </tr>\n",
       "    <tr>\n",
       "      <th>42</th>\n",
       "      <td>43</td>\n",
       "      <td>1.522974e+06</td>\n",
       "    </tr>\n",
       "    <tr>\n",
       "      <th>43</th>\n",
       "      <td>44</td>\n",
       "      <td>1.503739e+06</td>\n",
       "    </tr>\n",
       "    <tr>\n",
       "      <th>44</th>\n",
       "      <td>45</td>\n",
       "      <td>1.484224e+06</td>\n",
       "    </tr>\n",
       "    <tr>\n",
       "      <th>45</th>\n",
       "      <td>46</td>\n",
       "      <td>1.465685e+06</td>\n",
       "    </tr>\n",
       "    <tr>\n",
       "      <th>46</th>\n",
       "      <td>47</td>\n",
       "      <td>1.446676e+06</td>\n",
       "    </tr>\n",
       "    <tr>\n",
       "      <th>47</th>\n",
       "      <td>48</td>\n",
       "      <td>1.426652e+06</td>\n",
       "    </tr>\n",
       "    <tr>\n",
       "      <th>48</th>\n",
       "      <td>49</td>\n",
       "      <td>1.406459e+06</td>\n",
       "    </tr>\n",
       "    <tr>\n",
       "      <th>49</th>\n",
       "      <td>50</td>\n",
       "      <td>1.385127e+06</td>\n",
       "    </tr>\n",
       "  </tbody>\n",
       "</table>\n",
       "</div>"
      ],
      "text/plain": [
       "    rank   avg_streams\n",
       "0      1  6.452678e+06\n",
       "1      2  4.930331e+06\n",
       "2      3  4.316165e+06\n",
       "3      4  3.949684e+06\n",
       "4      5  3.692313e+06\n",
       "5      6  3.505777e+06\n",
       "6      7  3.344349e+06\n",
       "7      8  3.205857e+06\n",
       "8      9  3.083761e+06\n",
       "9     10  2.975797e+06\n",
       "10    11  2.873252e+06\n",
       "11    12  2.778022e+06\n",
       "12    13  2.688931e+06\n",
       "13    14  2.602756e+06\n",
       "14    15  2.527157e+06\n",
       "15    16  2.455996e+06\n",
       "16    17  2.390365e+06\n",
       "17    18  2.330022e+06\n",
       "18    19  2.274118e+06\n",
       "19    20  2.218298e+06\n",
       "20    21  2.167733e+06\n",
       "21    22  2.119696e+06\n",
       "22    23  2.074515e+06\n",
       "23    24  2.030252e+06\n",
       "24    25  1.992370e+06\n",
       "25    26  1.956687e+06\n",
       "26    27  1.920958e+06\n",
       "27    28  1.888143e+06\n",
       "28    29  1.858131e+06\n",
       "29    30  1.827528e+06\n",
       "30    31  1.798616e+06\n",
       "31    32  1.771439e+06\n",
       "32    33  1.744976e+06\n",
       "33    34  1.719703e+06\n",
       "34    35  1.694999e+06\n",
       "35    36  1.672198e+06\n",
       "36    37  1.649499e+06\n",
       "37    38  1.626660e+06\n",
       "38    39  1.604194e+06\n",
       "39    40  1.583494e+06\n",
       "40    41  1.562769e+06\n",
       "41    42  1.542209e+06\n",
       "42    43  1.522974e+06\n",
       "43    44  1.503739e+06\n",
       "44    45  1.484224e+06\n",
       "45    46  1.465685e+06\n",
       "46    47  1.446676e+06\n",
       "47    48  1.426652e+06\n",
       "48    49  1.406459e+06\n",
       "49    50  1.385127e+06"
      ]
     },
     "execution_count": 43,
     "metadata": {},
     "output_type": "execute_result"
    }
   ],
   "source": [
    "stream_distribution_query = pd.read_sql(stream_distribution_querystr, spotify_conn)\n",
    "stream_distribution_query"
   ]
  },
  {
   "cell_type": "code",
   "execution_count": 58,
   "id": "18c5243d",
   "metadata": {},
   "outputs": [
    {
     "data": {
      "image/png": "[encoded data removed]",
      "text/plain": [
       "<Figure size 600x720 with 1 Axes>"
      ]
     },
     "metadata": {},
     "output_type": "display_data"
    }
   ],
   "source": [
    "plt.figure(figsize=(6,7.2))\n",
    "colors = ['#23CF5F' if i < 5 else '#C4C4C4' for i in range(len(stream_distribution_query['rank']))]\n",
    "plt.barh(y=stream_distribution_query['rank'], width=stream_distribution_query['avg_streams'], edgecolor='black', color=colors)\n",
    "plt.xlabel('Average streams', fontsize=13)\n",
    "plt.ylabel('Rank', fontsize=13)\n",
    "plt.gca().invert_yaxis()"
   ]
  },
  {
   "cell_type": "code",
   "execution_count": 1,
   "id": "54d15a89",
   "metadata": {},
   "outputs": [],
   "source": [
    "# Percentage of streams in the top 5 positions (10th percentile) "
   ]
  },
  {
   "cell_type": "code",
   "execution_count": 132,
   "id": "f898e295",
   "metadata": {},
   "outputs": [
    {
     "name": "stdout",
     "output_type": "stream",
     "text": [
      "0    1.160439e+08\n",
      "Name: total_streams, dtype: float64\n"
     ]
    }
   ],
   "source": [
    "totstreams = pd.read_sql(f'''\n",
    "SELECT SUM(avg_streams) as total_streams \n",
    "FROM(\n",
    "{stream_distribution_querystr}\n",
    ") as subquery \n",
    "''', spotify_conn)['total_streams']\n",
    "print(totstreams)"
   ]
  },
  {
   "cell_type": "code",
   "execution_count": 133,
   "id": "b908bb23",
   "metadata": {
    "scrolled": true
   },
   "outputs": [],
   "source": [
    "top10perc = pd.read_sql(f'''\n",
    "SELECT SUM(avg_streams) as total_streams \n",
    "FROM(\n",
    "{stream_distribution_querystr}\n",
    ") as subquery \n",
    "WHERE rank<6\n",
    "''', spotify_conn)['total_streams']"
   ]
  },
  {
   "cell_type": "code",
   "execution_count": 134,
   "id": "e67591b9",
   "metadata": {
    "scrolled": true
   },
   "outputs": [
    {
     "data": {
      "text/plain": [
       "0    20.114081\n",
       "Name: total_streams, dtype: float64"
      ]
     },
     "execution_count": 134,
     "metadata": {},
     "output_type": "execute_result"
    }
   ],
   "source": [
    "100*(top10perc/totstreams)"
   ]
  },
  {
   "cell_type": "code",
   "execution_count": 67,
   "id": "ebf228dc",
   "metadata": {},
   "outputs": [],
   "source": [
    "# 20 % of the streams in the top 50 Global songs are in the top 10% of rankings"
   ]
  },
  {
   "cell_type": "code",
   "execution_count": 68,
   "id": "3249f3bb",
   "metadata": {},
   "outputs": [],
   "source": [
    "# How many days will a song remain in the global Top 50?"
   ]
  },
  {
   "cell_type": "code",
   "execution_count": 50,
   "id": "090a062a",
   "metadata": {},
   "outputs": [],
   "source": [
    "days_global_top50_querystr = '''\n",
    "SELECT \n",
    "title,\n",
    "COUNT(title) as days_in_top50 \n",
    "FROM spotify_charts \n",
    "WHERE chart='top200' and rank<51 and region='Global'\n",
    "GROUP BY title\n",
    "'''"
   ]
  },
  {
   "cell_type": "code",
   "execution_count": 51,
   "id": "ff6cc1dc",
   "metadata": {
    "scrolled": true
   },
   "outputs": [],
   "source": [
    "days_global_top50_query = pd.read_sql(days_global_top50_querystr, spotify_conn)"
   ]
  },
  {
   "cell_type": "code",
   "execution_count": 35,
   "id": "429d9b78",
   "metadata": {
    "scrolled": true
   },
   "outputs": [
    {
     "data": {
      "text/html": [
       "<div>\n",
       "<style scoped>\n",
       "    .dataframe tbody tr th:only-of-type {\n",
       "        vertical-align: middle;\n",
       "    }\n",
       "\n",
       "    .dataframe tbody tr th {\n",
       "        vertical-align: top;\n",
       "    }\n",
       "\n",
       "    .dataframe thead th {\n",
       "        text-align: right;\n",
       "    }\n",
       "</style>\n",
       "<table border=\"1\" class=\"dataframe\">\n",
       "  <thead>\n",
       "    <tr style=\"text-align: right;\">\n",
       "      <th></th>\n",
       "      <th>days_in_top50</th>\n",
       "    </tr>\n",
       "  </thead>\n",
       "  <tbody>\n",
       "    <tr>\n",
       "      <th>0</th>\n",
       "      <td>28</td>\n",
       "    </tr>\n",
       "    <tr>\n",
       "      <th>1</th>\n",
       "      <td>1</td>\n",
       "    </tr>\n",
       "    <tr>\n",
       "      <th>2</th>\n",
       "      <td>5</td>\n",
       "    </tr>\n",
       "    <tr>\n",
       "      <th>3</th>\n",
       "      <td>24</td>\n",
       "    </tr>\n",
       "    <tr>\n",
       "      <th>4</th>\n",
       "      <td>64</td>\n",
       "    </tr>\n",
       "    <tr>\n",
       "      <th>...</th>\n",
       "      <td>...</td>\n",
       "    </tr>\n",
       "    <tr>\n",
       "      <th>1962</th>\n",
       "      <td>213</td>\n",
       "    </tr>\n",
       "    <tr>\n",
       "      <th>1963</th>\n",
       "      <td>30</td>\n",
       "    </tr>\n",
       "    <tr>\n",
       "      <th>1964</th>\n",
       "      <td>154</td>\n",
       "    </tr>\n",
       "    <tr>\n",
       "      <th>1965</th>\n",
       "      <td>14</td>\n",
       "    </tr>\n",
       "    <tr>\n",
       "      <th>1966</th>\n",
       "      <td>7</td>\n",
       "    </tr>\n",
       "  </tbody>\n",
       "</table>\n",
       "<p>1967 rows × 1 columns</p>\n",
       "</div>"
      ],
      "text/plain": [
       "      days_in_top50\n",
       "0                28\n",
       "1                 1\n",
       "2                 5\n",
       "3                24\n",
       "4                64\n",
       "...             ...\n",
       "1962            213\n",
       "1963             30\n",
       "1964            154\n",
       "1965             14\n",
       "1966              7\n",
       "\n",
       "[1967 rows x 1 columns]"
      ]
     },
     "execution_count": 35,
     "metadata": {},
     "output_type": "execute_result"
    }
   ],
   "source": [
    "days_global_top50_query"
   ]
  },
  {
   "cell_type": "code",
   "execution_count": 53,
   "id": "a79ab480",
   "metadata": {
    "scrolled": true
   },
   "outputs": [
    {
     "data": {
      "text/plain": [
       "1967"
      ]
     },
     "execution_count": 53,
     "metadata": {},
     "output_type": "execute_result"
    }
   ],
   "source": [
    "days_global_top50_query.to_sql('days_global_top50_query', spotify_conn, if_exists='replace', index=False)"
   ]
  },
  {
   "cell_type": "code",
   "execution_count": 79,
   "id": "c23aee62",
   "metadata": {},
   "outputs": [
    {
     "data": {
      "text/html": [
       "<div>\n",
       "<style scoped>\n",
       "    .dataframe tbody tr th:only-of-type {\n",
       "        vertical-align: middle;\n",
       "    }\n",
       "\n",
       "    .dataframe tbody tr th {\n",
       "        vertical-align: top;\n",
       "    }\n",
       "\n",
       "    .dataframe thead th {\n",
       "        text-align: right;\n",
       "    }\n",
       "</style>\n",
       "<table border=\"1\" class=\"dataframe\">\n",
       "  <thead>\n",
       "    <tr style=\"text-align: right;\">\n",
       "      <th></th>\n",
       "      <th>title</th>\n",
       "      <th>days_in_top50</th>\n",
       "    </tr>\n",
       "  </thead>\n",
       "  <tbody>\n",
       "    <tr>\n",
       "      <th>0</th>\n",
       "      <td>Blinding Lights</td>\n",
       "      <td>749</td>\n",
       "    </tr>\n",
       "    <tr>\n",
       "      <th>1</th>\n",
       "      <td>Someone You Loved</td>\n",
       "      <td>744</td>\n",
       "    </tr>\n",
       "  </tbody>\n",
       "</table>\n",
       "</div>"
      ],
      "text/plain": [
       "               title  days_in_top50\n",
       "0    Blinding Lights            749\n",
       "1  Someone You Loved            744"
      ]
     },
     "execution_count": 79,
     "metadata": {},
     "output_type": "execute_result"
    }
   ],
   "source": [
    "pd.read_sql(\"\"\"\n",
    "SELECT \n",
    "title,\n",
    "days_in_top50\n",
    "FROM days_global_top50_query\n",
    "WHERE days_in_top50>700\n",
    "\"\"\", spotify_conn)"
   ]
  },
  {
   "cell_type": "code",
   "execution_count": 59,
   "id": "45695cef",
   "metadata": {
    "scrolled": false
   },
   "outputs": [
    {
     "data": {
      "image/png": "[encoded data removed]",
      "text/plain": [
       "<Figure size 600x600 with 1 Axes>"
      ]
     },
     "metadata": {},
     "output_type": "display_data"
    }
   ],
   "source": [
    "plt.figure(figsize=(6,6))\n",
    "plt.hist(days_global_top50_query['days_in_top50'], bins=40, color ='#23CF5F', edgecolor='black', linewidth=1)\n",
    "plt.yscale('log')\n",
    "plt.xlabel('Number of days in Global Top50', fontsize=13)\n",
    "plt.ylabel('Number of songs', fontsize=13)\n",
    "plt.locator_params(axis='x', nbins=15)  # more ticks on x-axis\n",
    "plt.show()"
   ]
  },
  {
   "cell_type": "code",
   "execution_count": null,
   "id": "51740c24",
   "metadata": {},
   "outputs": [],
   "source": [
    "# On average, how much does the probability of entering the Top 10 increase if the number of streams increases by 100,000?"
   ]
  },
  {
   "cell_type": "code",
   "execution_count": 25,
   "id": "69f5f5c0",
   "metadata": {
    "scrolled": true
   },
   "outputs": [
    {
     "data": {
      "text/html": [
       "<div>\n",
       "<style scoped>\n",
       "    .dataframe tbody tr th:only-of-type {\n",
       "        vertical-align: middle;\n",
       "    }\n",
       "\n",
       "    .dataframe tbody tr th {\n",
       "        vertical-align: top;\n",
       "    }\n",
       "\n",
       "    .dataframe thead th {\n",
       "        text-align: right;\n",
       "    }\n",
       "</style>\n",
       "<table border=\"1\" class=\"dataframe\">\n",
       "  <thead>\n",
       "    <tr style=\"text-align: right;\">\n",
       "      <th></th>\n",
       "      <th>top10</th>\n",
       "      <th>streams_hundred_thousand</th>\n",
       "    </tr>\n",
       "  </thead>\n",
       "  <tbody>\n",
       "    <tr>\n",
       "      <th>0</th>\n",
       "      <td>0</td>\n",
       "      <td>11.14690</td>\n",
       "    </tr>\n",
       "    <tr>\n",
       "      <th>1</th>\n",
       "      <td>1</td>\n",
       "      <td>24.08401</td>\n",
       "    </tr>\n",
       "    <tr>\n",
       "      <th>2</th>\n",
       "      <td>1</td>\n",
       "      <td>35.06717</td>\n",
       "    </tr>\n",
       "    <tr>\n",
       "      <th>3</th>\n",
       "      <td>1</td>\n",
       "      <td>35.81725</td>\n",
       "    </tr>\n",
       "    <tr>\n",
       "      <th>4</th>\n",
       "      <td>1</td>\n",
       "      <td>34.00510</td>\n",
       "    </tr>\n",
       "    <tr>\n",
       "      <th>...</th>\n",
       "      <td>...</td>\n",
       "      <td>...</td>\n",
       "    </tr>\n",
       "    <tr>\n",
       "      <th>90531</th>\n",
       "      <td>0</td>\n",
       "      <td>24.91909</td>\n",
       "    </tr>\n",
       "    <tr>\n",
       "      <th>90532</th>\n",
       "      <td>0</td>\n",
       "      <td>25.28626</td>\n",
       "    </tr>\n",
       "    <tr>\n",
       "      <th>90533</th>\n",
       "      <td>0</td>\n",
       "      <td>22.06870</td>\n",
       "    </tr>\n",
       "    <tr>\n",
       "      <th>90534</th>\n",
       "      <td>0</td>\n",
       "      <td>19.56489</td>\n",
       "    </tr>\n",
       "    <tr>\n",
       "      <th>90535</th>\n",
       "      <td>0</td>\n",
       "      <td>17.21713</td>\n",
       "    </tr>\n",
       "  </tbody>\n",
       "</table>\n",
       "<p>90536 rows × 2 columns</p>\n",
       "</div>"
      ],
      "text/plain": [
       "       top10  streams_hundred_thousand\n",
       "0          0                  11.14690\n",
       "1          1                  24.08401\n",
       "2          1                  35.06717\n",
       "3          1                  35.81725\n",
       "4          1                  34.00510\n",
       "...      ...                       ...\n",
       "90531      0                  24.91909\n",
       "90532      0                  25.28626\n",
       "90533      0                  22.06870\n",
       "90534      0                  19.56489\n",
       "90535      0                  17.21713\n",
       "\n",
       "[90536 rows x 2 columns]"
      ]
     },
     "execution_count": 25,
     "metadata": {},
     "output_type": "execute_result"
    }
   ],
   "source": [
    "rank_streams_top10 = pd.read_sql(\"\"\"\n",
    "SELECT \n",
    "(CASE WHEN rank<11 THEN 1 ELSE 0 END) as top10,\n",
    "(streams/100000) as streams_hundred_thousand\n",
    "FROM spotify_charts\n",
    "WHERE rank<51 and chart='top200' and region='Global'\n",
    "ORDER BY title\n",
    "\"\"\", spotify_conn)\n",
    "rank_streams_top10"
   ]
  },
  {
   "cell_type": "code",
   "execution_count": 72,
   "id": "b141dcf8",
   "metadata": {
    "scrolled": true
   },
   "outputs": [
    {
     "data": {
      "text/plain": [
       "(-0.1, 1.1)"
      ]
     },
     "execution_count": 72,
     "metadata": {},
     "output_type": "execute_result"
    },
    {
     "data": {
      "image/png": "[encoded data removed]",
      "text/plain": [
       "<Figure size 600x720 with 1 Axes>"
      ]
     },
     "metadata": {},
     "output_type": "display_data"
    }
   ],
   "source": [
    "# Linear Probability Model OLS Regression\n",
    "y = rank_streams_top10['top10']\n",
    "X = rank_streams_top10['streams_hundred_thousand']\n",
    "\n",
    "plt.figure(figsize=(6,7.2))\n",
    "plt.xlabel('Number of streams (100,000)', fontsize=13)\n",
    "plt.ylabel('Top 10', fontsize=13)\n",
    "\n",
    "plt.scatter(x=X,y=y, linewidth=1, color='#8E8E8E', s=30, edgecolor='black')\n",
    "\n",
    "# Line of best fit\n",
    "plt.locator_params(axis='x', nbins=8) \n",
    "plt.locator_params(axis='y', nbins=8) \n",
    "a, b = np.polyfit(X,y, 1)\n",
    "plt.plot(X, a*X+b, color='#23CF5F')\n",
    "\n",
    "plt.text(25, 0.1, 'Top10= ' + '{:.3f}'.format(b) + ' + {:.3f}'.format(a) + 'Streams(100,000)', size=14)\n",
    "plt.ylim([min(y) - 0.1, max(y) + 0.1])"
   ]
  },
  {
   "cell_type": "code",
   "execution_count": 31,
   "id": "05eaf07e",
   "metadata": {
    "scrolled": true
   },
   "outputs": [
    {
     "name": "stdout",
     "output_type": "stream",
     "text": [
      "                            OLS Regression Results                            \n",
      "==============================================================================\n",
      "Dep. Variable:                  top10   R-squared:                       0.551\n",
      "Model:                            OLS   Adj. R-squared:                  0.551\n",
      "Method:                 Least Squares   F-statistic:                 1.112e+05\n",
      "Date:                Fri, 14 Apr 2023   Prob (F-statistic):               0.00\n",
      "Time:                        15:33:25   Log-Likelihood:                -9232.9\n",
      "No. Observations:               90536   AIC:                         1.847e+04\n",
      "Df Residuals:                   90534   BIC:                         1.849e+04\n",
      "Df Model:                           1                                         \n",
      "Covariance Type:            nonrobust                                         \n",
      "============================================================================================\n",
      "                               coef    std err          t      P>|t|      [0.025      0.975]\n",
      "--------------------------------------------------------------------------------------------\n",
      "const                       -0.4300      0.002   -205.890      0.000      -0.434      -0.426\n",
      "streams_hundred_thousand     0.0271   8.14e-05    333.510      0.000       0.027       0.027\n",
      "==============================================================================\n",
      "Omnibus:                    10991.623   Durbin-Watson:                   1.432\n",
      "Prob(Omnibus):                  0.000   Jarque-Bera (JB):            48840.195\n",
      "Skew:                           0.530   Prob(JB):                         0.00\n",
      "Kurtosis:                       6.439   Cond. No.                         60.2\n",
      "==============================================================================\n",
      "\n",
      "Notes:\n",
      "[1] Standard Errors assume that the covariance matrix of the errors is correctly specified.\n"
     ]
    }
   ],
   "source": [
    "X = sm.add_constant(X)\n",
    "model = sm.OLS(y, X).fit()\n",
    "print(model.summary())"
   ]
  },
  {
   "cell_type": "code",
   "execution_count": null,
   "id": "0c2cb285",
   "metadata": {},
   "outputs": [],
   "source": [
    "# Google Trends data"
   ]
  },
  {
   "cell_type": "code",
   "execution_count": 2,
   "id": "f90e8535",
   "metadata": {},
   "outputs": [],
   "source": [
    "google_trends = pd.read_csv(\"multiTimeline.csv\")"
   ]
  },
  {
   "cell_type": "code",
   "execution_count": 3,
   "id": "4739cef1",
   "metadata": {},
   "outputs": [
    {
     "data": {
      "text/plain": [
       "date           object\n",
       "spotify         int64\n",
       "apple_music     int64\n",
       "dtype: object"
      ]
     },
     "execution_count": 3,
     "metadata": {},
     "output_type": "execute_result"
    }
   ],
   "source": [
    "google_trends.dtypes"
   ]
  },
  {
   "cell_type": "code",
   "execution_count": 4,
   "id": "d2be983b",
   "metadata": {},
   "outputs": [],
   "source": [
    "google_trends['date'] = pd.to_datetime(google_trends['date'], format=\"%d/%m/%Y\")"
   ]
  },
  {
   "cell_type": "code",
   "execution_count": 5,
   "id": "bcffef23",
   "metadata": {},
   "outputs": [],
   "source": [
    "Path('google_trends.db').touch()"
   ]
  },
  {
   "cell_type": "code",
   "execution_count": 6,
   "id": "4cae5277",
   "metadata": {},
   "outputs": [],
   "source": [
    "trends_conn = sqlite3.connect('google_trends.db')\n",
    "trends_cursor = trends_conn.cursor()"
   ]
  },
  {
   "cell_type": "code",
   "execution_count": 7,
   "id": "bb2ce8b1",
   "metadata": {},
   "outputs": [
    {
     "data": {
      "text/plain": [
       "51"
      ]
     },
     "execution_count": 7,
     "metadata": {},
     "output_type": "execute_result"
    }
   ],
   "source": [
    "google_trends.to_sql('google_trends', trends_conn, if_exists='append', index=False)"
   ]
  },
  {
   "cell_type": "code",
   "execution_count": 14,
   "id": "3e247ca0",
   "metadata": {},
   "outputs": [],
   "source": [
    "trend_totals = pd.read_sql(\"\"\"\n",
    "SELECT\n",
    "SUM(spotify) as total_spotify,\n",
    "SUM(apple_music) as total_apple_music\n",
    "FROM google_trends \n",
    "\"\"\", trends_conn)\n",
    "search_ratio = trend_totals['total_spotify']/trend_totals['total_apple_music']"
   ]
  },
  {
   "cell_type": "code",
   "execution_count": 15,
   "id": "c5a02b84",
   "metadata": {},
   "outputs": [
    {
     "data": {
      "text/plain": [
       "0    10.294931\n",
       "dtype: float64"
      ]
     },
     "execution_count": 15,
     "metadata": {},
     "output_type": "execute_result"
    }
   ],
   "source": [
    "search_ratio"
   ]
  },
  {
   "cell_type": "code",
   "execution_count": 76,
   "id": "2774eae3",
   "metadata": {},
   "outputs": [
    {
     "data": {
      "image/png": "[encoded data removed]",
      "text/plain": [
       "<Figure size 600x600 with 1 Axes>"
      ]
     },
     "metadata": {},
     "output_type": "display_data"
    }
   ],
   "source": [
    "spotify_searches = google_trends['spotify']\n",
    "apple_music_searches = google_trends['apple_music']\n",
    "search_dates = google_trends['date']\n",
    "\n",
    "plt.figure(figsize=(6,6))\n",
    "plt.xlabel('Date', fontsize=13)\n",
    "plt.ylabel('Normalised Google Searches', fontsize=13)\n",
    "plt.plot(search_dates, apple_music_searches, color='#8E8E8E', label='Apple Music')\n",
    "plt.plot(search_dates, spotify_searches, color='#23CF5F', label='Spotify')\n",
    "plt.legend(prop={'size': 14}, loc='upper left')\n",
    "plt.show()"
   ]
  }
 ],
 "metadata": {
  "kernelspec": {
   "display_name": "Python 3 (ipykernel)",
   "language": "python",
   "name": "python3"
  },
  "language_info": {
   "codemirror_mode": {
    "name": "ipython",
    "version": 3
   },
   "file_extension": ".py",
   "mimetype": "text/x-python",
   "name": "python",
   "nbconvert_exporter": "python",
   "pygments_lexer": "ipython3",
   "version": "3.10.0"
  }
 },
 "nbformat": 4,
 "nbformat_minor": 5
}
